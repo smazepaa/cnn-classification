{
 "cells": [
  {
   "cell_type": "code",
   "execution_count": 2,
   "id": "initial_id",
   "metadata": {
    "ExecuteTime": {
     "end_time": "2025-10-27T15:22:27.835983Z",
     "start_time": "2025-10-27T15:22:27.811149Z"
    },
    "collapsed": true
   },
   "outputs": [
    {
     "name": "stdout",
     "output_type": "stream",
     "text": [
      "Train CSV shape: (12260, 6)\n",
      "Test CSV shape: (18390, 1)\n",
      "\n",
      "Category distribution:\n",
      "Cat: 5077 (41.4%)\n",
      "Dog: 5025 (41.0%)\n",
      "Moris: 56 (0.5%)\n",
      "Motya: 42 (0.3%)\n",
      "Biatrix: 41 (0.3%)\n",
      "Other: 2162 (17.6%)\n",
      "\n",
      "Total samples: 12260\n"
     ]
    }
   ],
   "source": [
    "import pandas as pd\n",
    "\n",
    "train_df = pd.read_csv('cats-and-dogs-plus-plus/train.csv')\n",
    "test_df = pd.read_csv('cats-and-dogs-plus-plus/test.csv')\n",
    "\n",
    "print(\"Train CSV shape:\", train_df.shape)\n",
    "print(\"Test CSV shape:\", test_df.shape)\n",
    "\n",
    "category_columns = ['Cat', 'Dog', 'Moris', 'Motya', 'Biatrix']\n",
    "\n",
    "category_counts = {}\n",
    "for col in category_columns:\n",
    "    category_counts[col] = train_df[col].sum()\n",
    "\n",
    "all_zeros_mask = (train_df[category_columns] == 0).all(axis=1)\n",
    "if all_zeros_mask.sum() > 0:\n",
    "    category_counts['Other'] = all_zeros_mask.sum()\n",
    "\n",
    "print(\"\\nCategory distribution:\")\n",
    "for category, count in category_counts.items():\n",
    "    percentage = (count / len(train_df)) * 100\n",
    "    print(f\"{category}: {count} ({percentage:.1f}%)\")\n",
    "\n",
    "print(f\"\\nTotal samples: {len(train_df)}\")"
   ]
  },
  {
   "cell_type": "code",
   "id": "b60a3e57",
   "metadata": {
    "ExecuteTime": {
     "end_time": "2025-10-27T15:31:59.533785Z",
     "start_time": "2025-10-27T15:31:59.466019Z"
    }
   },
   "source": [
    "def get_label_combination(row):\n",
    "    active_labels = []\n",
    "    for col in category_columns:\n",
    "        if row[col] == 1:\n",
    "            active_labels.append(col)\n",
    "    \n",
    "    if not active_labels:\n",
    "        return \"None (Other)\"\n",
    "    return \" + \".join(sorted(active_labels))\n",
    "\n",
    "train_df['label_combination'] = train_df[category_columns].apply(get_label_combination, axis=1)\n",
    "combination_counts = train_df['label_combination'].value_counts()\n",
    "\n",
    "for combination, count in combination_counts.items():\n",
    "    percentage = (count / len(train_df)) * 100\n",
    "    print(f\"{combination:<25} {count:>5} ({percentage:>5.2f}%)\")\n"
   ],
   "outputs": [
    {
     "name": "stdout",
     "output_type": "stream",
     "text": [
      "Cat                        4989 (40.69%)\n",
      "Dog                        4984 (40.65%)\n",
      "None (Other)               2162 (17.63%)\n",
      "Cat + Moris                  42 ( 0.34%)\n",
      "Biatrix + Dog                37 ( 0.30%)\n",
      "Cat + Motya                  32 ( 0.26%)\n",
      "Cat + Moris + Motya          10 ( 0.08%)\n",
      "Biatrix + Cat + Dog + Moris     4 ( 0.03%)\n"
     ]
    }
   ],
   "execution_count": 9
  },
  {
   "metadata": {},
   "cell_type": "code",
   "outputs": [],
   "execution_count": null,
   "source": "",
   "id": "caf5f1febe561ed8"
  }
 ],
 "metadata": {
  "kernelspec": {
   "display_name": "Python 3",
   "language": "python",
   "name": "python3"
  },
  "language_info": {
   "codemirror_mode": {
    "name": "ipython",
    "version": 2
   },
   "file_extension": ".py",
   "mimetype": "text/x-python",
   "name": "python",
   "nbconvert_exporter": "python",
   "pygments_lexer": "ipython2",
   "version": "2.7.6"
  }
 },
 "nbformat": 4,
 "nbformat_minor": 5
}
